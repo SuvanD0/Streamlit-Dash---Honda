{
 "cells": [
  {
   "cell_type": "code",
   "execution_count": 2,
   "id": "79f48ec5",
   "metadata": {},
   "outputs": [
    {
     "name": "stderr",
     "output_type": "stream",
     "text": [
      "/var/folders/zw/g36h_k5s02q7_zm370bn25pw0000gn/T/ipykernel_64659/2931977252.py:3: DtypeWarning: Columns (4) have mixed types. Specify dtype option on import or set low_memory=False.\n",
      "  merged_df = pd.read_csv(\"data/Final_Data.csv\")\n"
     ]
    }
   ],
   "source": [
    "import pandas as pd\n",
    "\n",
    "merged_df = pd.read_csv(\"data/Final_Data.csv\")\n",
    "trip_summary_df = pd.read_csv(\"data/trip_summary.csv\")\n",
    "df_vehicle = pd.read_csv(\"data/vehicle.csv\")\n",
    "df_tripReq = pd.read_csv(\"data/trip_request.csv\")"
   ]
  },
  {
   "cell_type": "code",
   "execution_count": 5,
   "id": "5912622c",
   "metadata": {},
   "outputs": [
    {
     "name": "stdout",
     "output_type": "stream",
     "text": [
      "<class 'pandas.core.frame.DataFrame'>\n",
      "RangeIndex: 180968 entries, 0 to 180967\n",
      "Data columns (total 46 columns):\n",
      " #   Column                            Non-Null Count   Dtype  \n",
      "---  ------                            --------------   -----  \n",
      " 0   vehicle id                        180968 non-null  int64  \n",
      " 1   carbon emissions grams per mile   180968 non-null  float64\n",
      " 2   miles per gallon                  180968 non-null  float64\n",
      " 3   make                              180968 non-null  object \n",
      " 4   model                             180968 non-null  object \n",
      " 5   year                              180968 non-null  int64  \n",
      " 6   capacity                          180968 non-null  int64  \n",
      " 7   handicapped                       180968 non-null  int64  \n",
      " 8   updated_at_x                      180968 non-null  object \n",
      " 9   route_id                          180968 non-null  int64  \n",
      " 10  driver_id                         180968 non-null  int64  \n",
      " 11  start_ts                          180968 non-null  object \n",
      " 12  end_ts                            180968 non-null  object \n",
      " 13  date                              180968 non-null  object \n",
      " 14  weekday                           180968 non-null  object \n",
      " 15  vehicle_id                        180968 non-null  int64  \n",
      " 16  ambulatory_riders                 180968 non-null  int64  \n",
      " 17  handicapped_riders                180968 non-null  int64  \n",
      " 18  total_riders                      180968 non-null  int64  \n",
      " 19  status_x                          180968 non-null  object \n",
      " 20  trip_start_lat                    180968 non-null  float64\n",
      " 21  trip_start_lon                    180968 non-null  float64\n",
      " 22  trip_end_lat                      180968 non-null  float64\n",
      " 23  trip_end_lon                      180968 non-null  float64\n",
      " 24  min_speed_mph                     180968 non-null  float64\n",
      " 25  max_speed_mph                     180968 non-null  float64\n",
      " 26  avg_speed_mph                     180968 non-null  float64\n",
      " 27  trip_distance_miles               180968 non-null  float64\n",
      " 28  id_y                              180968 non-null  int64  \n",
      " 29  scheduled_ts                      180968 non-null  object \n",
      " 30  pickup_ts                         180968 non-null  object \n",
      " 31  dropoff_ts                        180968 non-null  object \n",
      " 32  requested_ts                      180968 non-null  object \n",
      " 33  created_by                        180968 non-null  int64  \n",
      " 34  special_assistance                180968 non-null  object \n",
      " 35  organization_id                   180968 non-null  int64  \n",
      " 36  ride_type                         180968 non-null  object \n",
      " 37  status_y                          180968 non-null  object \n",
      " 38  estimated_miles                   180968 non-null  float64\n",
      " 39  fare                              180968 non-null  float64\n",
      " 40  discount                          180968 non-null  float64\n",
      " 41  updated_at_y                      180968 non-null  object \n",
      " 42  Unnamed: 40                       0 non-null       float64\n",
      " 43  Vehicle ID                        180968 non-null  int64  \n",
      " 44  Best Match                        180968 non-null  object \n",
      " 45  Efficiency (Wh/km)                174576 non-null  object \n",
      "dtypes: float64(14), int64(14), object(18)\n",
      "memory usage: 63.5+ MB\n",
      "None\n"
     ]
    }
   ],
   "source": [
    "print(merged_df.info())"
   ]
  },
  {
   "cell_type": "code",
   "execution_count": null,
   "id": "e350b896",
   "metadata": {},
   "outputs": [],
   "source": []
  }
 ],
 "metadata": {
  "kernelspec": {
   "display_name": "Python 3 (ipykernel)",
   "language": "python",
   "name": "python3"
  },
  "language_info": {
   "codemirror_mode": {
    "name": "ipython",
    "version": 3
   },
   "file_extension": ".py",
   "mimetype": "text/x-python",
   "name": "python",
   "nbconvert_exporter": "python",
   "pygments_lexer": "ipython3",
   "version": "3.9.13"
  }
 },
 "nbformat": 4,
 "nbformat_minor": 5
}
